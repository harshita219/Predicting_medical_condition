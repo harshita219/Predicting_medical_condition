{
 "cells": [
  {
   "cell_type": "code",
   "execution_count": 29,
   "metadata": {},
   "outputs": [],
   "source": [
    "import numpy as np\n",
    "import pandas as pd\n",
    "import matplotlib.pyplot as plt\n",
    "from cleaning import text_prepare # self-created library\n",
    "\n",
    "from sklearn.model_selection import train_test_split\n",
    "from sklearn.feature_extraction.text import TfidfVectorizer\n",
    "from sklearn.multiclass import OneVsRestClassifier\n",
    "from sklearn.svm import SVC\n",
    "from sklearn.linear_model import LogisticRegression\n",
    "from sklearn.preprocessing import LabelBinarizer\n",
    "from sklearn.metrics import accuracy_score, classification_report, confusion_matrix\n",
    "\n",
    "import nltk\n",
    "import re, string\n",
    "from nltk import word_tokenize, sent_tokenize\n",
    "from gensim.models import KeyedVectors\n",
    "\n",
    "from keras.preprocessing.text import Tokenizer \n",
    "from keras.preprocessing.sequence import pad_sequences\n",
    "\n",
    "from tensorflow.keras.layers import Dense, Input, GlobalMaxPooling1D, Dropout, Activation, LSTM, concatenate\n",
    "from tensorflow.keras.layers import Conv1D, MaxPooling1D, Embedding, Reshape, Flatten\n",
    "from tensorflow.keras.models import Model, Sequential\n",
    "from tensorflow.keras.callbacks import EarlyStopping\n",
    "from tensorflow.keras.optimizers import Adam\n",
    "from keras import regularizers"
   ]
  },
  {
   "cell_type": "code",
   "execution_count": 3,
   "metadata": {},
   "outputs": [],
   "source": [
    "# Load pretrained model (since intermediate data is not included, the model cannot be refined with additional data)\n",
    "emb = KeyedVectors.load_word2vec_format('GoogleNews-vectors-negative300.bin', binary=True)"
   ]
  },
  {
   "cell_type": "code",
   "execution_count": 4,
   "metadata": {},
   "outputs": [
    {
     "data": {
      "text/html": [
       "<div>\n",
       "<style scoped>\n",
       "    .dataframe tbody tr th:only-of-type {\n",
       "        vertical-align: middle;\n",
       "    }\n",
       "\n",
       "    .dataframe tbody tr th {\n",
       "        vertical-align: top;\n",
       "    }\n",
       "\n",
       "    .dataframe thead th {\n",
       "        text-align: right;\n",
       "    }\n",
       "</style>\n",
       "<table border=\"1\" class=\"dataframe\">\n",
       "  <thead>\n",
       "    <tr style=\"text-align: right;\">\n",
       "      <th></th>\n",
       "      <th>uniqueID</th>\n",
       "      <th>drugName</th>\n",
       "      <th>condition</th>\n",
       "      <th>review</th>\n",
       "      <th>rating</th>\n",
       "      <th>date</th>\n",
       "      <th>usefulCount</th>\n",
       "      <th>processed_text</th>\n",
       "    </tr>\n",
       "  </thead>\n",
       "  <tbody>\n",
       "    <tr>\n",
       "      <th>73946</th>\n",
       "      <td>18421</td>\n",
       "      <td>Zolpidem</td>\n",
       "      <td>Insomnia</td>\n",
       "      <td>\"I started taking this medication 10 years ago...</td>\n",
       "      <td>10</td>\n",
       "      <td>16-Nov-08</td>\n",
       "      <td>103</td>\n",
       "      <td>start take medication ten years ago doctor tel...</td>\n",
       "    </tr>\n",
       "    <tr>\n",
       "      <th>73947</th>\n",
       "      <td>228492</td>\n",
       "      <td>Geodon</td>\n",
       "      <td>Bipolar Disorde</td>\n",
       "      <td>\"I was in a very bad place at the time I start...</td>\n",
       "      <td>3</td>\n",
       "      <td>25-Jul-16</td>\n",
       "      <td>5</td>\n",
       "      <td>bad place time start take doctor want ween eff...</td>\n",
       "    </tr>\n",
       "    <tr>\n",
       "      <th>73948</th>\n",
       "      <td>93069</td>\n",
       "      <td>Vortioxetine</td>\n",
       "      <td>Depression</td>\n",
       "      <td>\"This is the third med I&amp;#039;ve tried for anx...</td>\n",
       "      <td>2</td>\n",
       "      <td>17-Jul-16</td>\n",
       "      <td>33</td>\n",
       "      <td>third med 've try anxiety mild depression week...</td>\n",
       "    </tr>\n",
       "    <tr>\n",
       "      <th>73949</th>\n",
       "      <td>132177</td>\n",
       "      <td>Ativan</td>\n",
       "      <td>Anxiety</td>\n",
       "      <td>\"I was super against taking medication. I&amp;#039...</td>\n",
       "      <td>9</td>\n",
       "      <td>16-Aug-16</td>\n",
       "      <td>61</td>\n",
       "      <td>super take medication 've start deal anxiety d...</td>\n",
       "    </tr>\n",
       "    <tr>\n",
       "      <th>73950</th>\n",
       "      <td>164345</td>\n",
       "      <td>Junel 1.5 / 30</td>\n",
       "      <td>Birth Control</td>\n",
       "      <td>\"This would be my second month on Junel. I&amp;#03...</td>\n",
       "      <td>6</td>\n",
       "      <td>27-May-15</td>\n",
       "      <td>0</td>\n",
       "      <td>would second month junel 've birth control ten...</td>\n",
       "    </tr>\n",
       "  </tbody>\n",
       "</table>\n",
       "</div>"
      ],
      "text/plain": [
       "       uniqueID        drugName        condition  \\\n",
       "73946     18421        Zolpidem         Insomnia   \n",
       "73947    228492          Geodon  Bipolar Disorde   \n",
       "73948     93069    Vortioxetine       Depression   \n",
       "73949    132177          Ativan          Anxiety   \n",
       "73950    164345  Junel 1.5 / 30    Birth Control   \n",
       "\n",
       "                                                  review  rating       date  \\\n",
       "73946  \"I started taking this medication 10 years ago...      10  16-Nov-08   \n",
       "73947  \"I was in a very bad place at the time I start...       3  25-Jul-16   \n",
       "73948  \"This is the third med I&#039;ve tried for anx...       2  17-Jul-16   \n",
       "73949  \"I was super against taking medication. I&#039...       9  16-Aug-16   \n",
       "73950  \"This would be my second month on Junel. I&#03...       6  27-May-15   \n",
       "\n",
       "       usefulCount                                     processed_text  \n",
       "73946          103  start take medication ten years ago doctor tel...  \n",
       "73947            5  bad place time start take doctor want ween eff...  \n",
       "73948           33  third med 've try anxiety mild depression week...  \n",
       "73949           61  super take medication 've start deal anxiety d...  \n",
       "73950            0  would second month junel 've birth control ten...  "
      ]
     },
     "execution_count": 4,
     "metadata": {},
     "output_type": "execute_result"
    }
   ],
   "source": [
    "data_train = pd.read_csv(\"trainData.csv\")\n",
    "data_train.tail(5)"
   ]
  },
  {
   "cell_type": "code",
   "execution_count": 5,
   "metadata": {},
   "outputs": [],
   "source": [
    "X = data_train.processed_text.values\n",
    "y = data_train.condition.values"
   ]
  },
  {
   "cell_type": "code",
   "execution_count": 6,
   "metadata": {},
   "outputs": [
    {
     "data": {
      "text/plain": [
       "array(['ADHD', 'Acne', 'Anxiety', 'Bipolar Disorde', 'Birth Control',\n",
       "       'Depression', 'Insomnia', 'Obesity', 'Pain', 'Weight Loss'],\n",
       "      dtype='<U15')"
      ]
     },
     "execution_count": 6,
     "metadata": {},
     "output_type": "execute_result"
    }
   ],
   "source": [
    "# One-hot encoding the classes (alphabetically by default)\n",
    "le = LabelBinarizer()\n",
    "y = le.fit_transform(y)\n",
    "le.classes_"
   ]
  },
  {
   "cell_type": "code",
   "execution_count": 7,
   "metadata": {},
   "outputs": [
    {
     "data": {
      "text/plain": [
       "array([[1, 0, 0, ..., 0, 0, 0],\n",
       "       [0, 0, 0, ..., 0, 0, 0],\n",
       "       [0, 0, 0, ..., 0, 0, 0],\n",
       "       ...,\n",
       "       [0, 0, 0, ..., 0, 0, 0],\n",
       "       [0, 0, 1, ..., 0, 0, 0],\n",
       "       [0, 0, 0, ..., 0, 0, 0]])"
      ]
     },
     "execution_count": 7,
     "metadata": {},
     "output_type": "execute_result"
    }
   ],
   "source": [
    "y"
   ]
  },
  {
   "cell_type": "markdown",
   "metadata": {},
   "source": [
    "### Basic Logistic Regression"
   ]
  },
  {
   "cell_type": "code",
   "execution_count": 44,
   "metadata": {},
   "outputs": [],
   "source": [
    "# Splitting data into train:test by 80:20\n",
    "X_train, X_val, y_train, y_val = train_test_split(X, y, test_size=0.2, random_state = 42)"
   ]
  },
  {
   "cell_type": "code",
   "execution_count": 45,
   "metadata": {},
   "outputs": [],
   "source": [
    "# Creating the vectorizer\n",
    "tfidf = TfidfVectorizer(max_features = 10000, ngram_range=(1,3), min_df=5, max_df=0.9)\n",
    "tfidf = tfidf.fit(X_train)"
   ]
  },
  {
   "cell_type": "code",
   "execution_count": 46,
   "metadata": {},
   "outputs": [
    {
     "name": "stdout",
     "output_type": "stream",
     "text": [
      "\n",
      "Training features shape:  (59160, 10000)\n",
      "Test features shape:      (14791, 10000)\n"
     ]
    }
   ],
   "source": [
    "X_train = tfidf.transform(X_train).toarray()\n",
    "print('\\nTraining features shape: ',X_train.shape)\n",
    "\n",
    "X_val = tfidf.transform(X_val).toarray()\n",
    "print('Test features shape:     ',X_val.shape)"
   ]
  },
  {
   "cell_type": "code",
   "execution_count": 48,
   "metadata": {},
   "outputs": [],
   "source": [
    "clf = OneVsRestClassifier(LogisticRegression(max_iter=1000, random_state=42))\n",
    "clf = clf.fit(X_train, y_train)\n",
    "prediction = clf.predict(X_val)"
   ]
  },
  {
   "cell_type": "code",
   "execution_count": 49,
   "metadata": {},
   "outputs": [
    {
     "name": "stdout",
     "output_type": "stream",
     "text": [
      "\n",
      "Classifier results: \n",
      "\n"
     ]
    },
    {
     "name": "stderr",
     "output_type": "stream",
     "text": [
      "C:\\Users\\welcome\\Anaconda3\\lib\\site-packages\\sklearn\\metrics\\_classification.py:1221: UndefinedMetricWarning: Recall and F-score are ill-defined and being set to 0.0 in samples with no true labels. Use `zero_division` parameter to control this behavior.\n",
      "  _warn_prf(average, modifier, msg_start, len(result))\n"
     ]
    },
    {
     "name": "stdout",
     "output_type": "stream",
     "text": [
      "                 precision    recall  f1-score   support\n",
      "\n",
      "           ADHD       0.71      0.99      0.82       488\n",
      "           Acne       0.81      0.95      0.87       968\n",
      "        Anxiety       0.59      0.86      0.70       772\n",
      "Bipolar Disorde       0.57      0.92      0.70       507\n",
      "  Birth Control       0.97      0.97      0.97      5720\n",
      "     Depression       0.63      0.86      0.73      1315\n",
      "       Insomnia       0.71      0.91      0.80       541\n",
      "        Obesity       0.41      0.66      0.51       463\n",
      "           Pain       0.80      0.97      0.88      1058\n",
      "    Weight Loss       0.47      0.69      0.56       508\n",
      "\n",
      "      micro avg       0.77      0.92      0.84     12340\n",
      "      macro avg       0.67      0.88      0.75     12340\n",
      "   weighted avg       0.80      0.92      0.85     12340\n",
      "    samples avg       0.77      0.76      0.76     12340\n",
      "\n"
     ]
    }
   ],
   "source": [
    "print(\"\\nClassifier results: \\n\")\n",
    "print(classification_report(prediction, y_val, target_names = list(le.classes_)))"
   ]
  },
  {
   "cell_type": "markdown",
   "metadata": {},
   "source": [
    "### CNN-LSTM"
   ]
  },
  {
   "cell_type": "code",
   "execution_count": 8,
   "metadata": {},
   "outputs": [],
   "source": [
    "# Splitting data into train:test by 80:20\n",
    "X_train, X_val, y_train, y_val = train_test_split(X, y, test_size=0.2, random_state = 42)"
   ]
  },
  {
   "cell_type": "code",
   "execution_count": 9,
   "metadata": {},
   "outputs": [
    {
     "name": "stdout",
     "output_type": "stream",
     "text": [
      "Found 24195 unique tokens.\n"
     ]
    }
   ],
   "source": [
    "NUM_WORDS=24000\n",
    "tokenizer = Tokenizer(num_words=NUM_WORDS)\n",
    "\n",
    "# Converting text to tokens\n",
    "tokenizer.fit_on_texts(X_train)\n",
    "\n",
    "# Converting into sequential data\n",
    "sequences_train = tokenizer.texts_to_sequences(X_train)\n",
    "sequences_valid = tokenizer.texts_to_sequences(X_val)\n",
    "\n",
    "# \n",
    "word_index = tokenizer.word_index\n",
    "print('Found %s unique tokens.' % len(word_index))"
   ]
  },
  {
   "cell_type": "code",
   "execution_count": 10,
   "metadata": {},
   "outputs": [
    {
     "name": "stdout",
     "output_type": "stream",
     "text": [
      "Shape of X train and X validation tensor: (59160, 440) (14791, 440)\n",
      "Shape of label train and validation tensor: (59160, 10) (14791, 10)\n"
     ]
    }
   ],
   "source": [
    "X_train = pad_sequences(sequences_train)\n",
    "X_val = pad_sequences(sequences_valid,maxlen=X_train.shape[1])\n",
    "\n",
    "print('Shape of X train and X validation tensor:', X_train.shape,X_val.shape)\n",
    "print('Shape of label train and validation tensor:', y_train.shape,y_val.shape)"
   ]
  },
  {
   "cell_type": "code",
   "execution_count": 11,
   "metadata": {},
   "outputs": [],
   "source": [
    "SEQUENCE_LEN = X_train.shape[1]\n",
    "EMBEDDING_DIM = 300"
   ]
  },
  {
   "cell_type": "code",
   "execution_count": 12,
   "metadata": {},
   "outputs": [],
   "source": [
    "vocabulary_size = min(len(word_index)+1, NUM_WORDS)\n",
    "\n",
    "embedding_matrix = np.zeros((vocabulary_size, EMBEDDING_DIM))\n",
    "\n",
    "for word, i in word_index.items():\n",
    "    if i >= NUM_WORDS:\n",
    "        continue\n",
    "    try:\n",
    "        embedding_vector = emb[word]\n",
    "        embedding_matrix[i] = embedding_vector\n",
    "    except KeyError:\n",
    "        embedding_matrix[i] = np.random.normal(0,np.sqrt(0.25),EMBEDDING_DIM)"
   ]
  },
  {
   "cell_type": "code",
   "execution_count": 13,
   "metadata": {},
   "outputs": [
    {
     "data": {
      "text/plain": [
       "(24000, 300)"
      ]
     },
     "execution_count": 13,
     "metadata": {},
     "output_type": "execute_result"
    }
   ],
   "source": [
    "embedding_matrix.shape"
   ]
  },
  {
   "cell_type": "code",
   "execution_count": 14,
   "metadata": {},
   "outputs": [
    {
     "data": {
      "text/plain": [
       "440"
      ]
     },
     "execution_count": 14,
     "metadata": {},
     "output_type": "execute_result"
    }
   ],
   "source": [
    "SEQUENCE_LEN"
   ]
  },
  {
   "cell_type": "code",
   "execution_count": 16,
   "metadata": {},
   "outputs": [
    {
     "name": "stdout",
     "output_type": "stream",
     "text": [
      "Model: \"sequential_1\"\n",
      "_________________________________________________________________\n",
      "Layer (type)                 Output Shape              Param #   \n",
      "=================================================================\n",
      "embedding_1 (Embedding)      (None, 440, 300)          7200000   \n",
      "_________________________________________________________________\n",
      "conv1d_3 (Conv1D)            (None, 440, 32)           28832     \n",
      "_________________________________________________________________\n",
      "max_pooling1d_3 (MaxPooling1 (None, 146, 32)           0         \n",
      "_________________________________________________________________\n",
      "dropout_5 (Dropout)          (None, 146, 32)           0         \n",
      "_________________________________________________________________\n",
      "conv1d_4 (Conv1D)            (None, 146, 64)           6208      \n",
      "_________________________________________________________________\n",
      "max_pooling1d_4 (MaxPooling1 (None, 48, 64)            0         \n",
      "_________________________________________________________________\n",
      "dropout_6 (Dropout)          (None, 48, 64)            0         \n",
      "_________________________________________________________________\n",
      "conv1d_5 (Conv1D)            (None, 48, 128)           24704     \n",
      "_________________________________________________________________\n",
      "max_pooling1d_5 (MaxPooling1 (None, 16, 128)           0         \n",
      "_________________________________________________________________\n",
      "dropout_7 (Dropout)          (None, 16, 128)           0         \n",
      "_________________________________________________________________\n",
      "lstm_1 (LSTM)                (None, 16, 64)            49408     \n",
      "_________________________________________________________________\n",
      "dropout_8 (Dropout)          (None, 16, 64)            0         \n",
      "_________________________________________________________________\n",
      "flatten_1 (Flatten)          (None, 1024)              0         \n",
      "_________________________________________________________________\n",
      "dense_2 (Dense)              (None, 128)               131200    \n",
      "_________________________________________________________________\n",
      "dropout_9 (Dropout)          (None, 128)               0         \n",
      "_________________________________________________________________\n",
      "dense_3 (Dense)              (None, 10)                1290      \n",
      "=================================================================\n",
      "Total params: 7,441,642\n",
      "Trainable params: 7,441,642\n",
      "Non-trainable params: 0\n",
      "_________________________________________________________________\n"
     ]
    }
   ],
   "source": [
    "model= Sequential()\n",
    "model.add(Embedding(NUM_WORDS, EMBEDDING_DIM, weights = [embedding_matrix], input_length = SEQUENCE_LEN))\n",
    "\n",
    "model.add(Conv1D(32,kernel_size=3,padding='same',activation='relu'))\n",
    "model.add(MaxPooling1D(pool_size=3))\n",
    "model.add(Dropout(0.3))\n",
    "\n",
    "model.add(Conv1D(64,kernel_size=3,padding='same',activation='relu'))\n",
    "model.add(MaxPooling1D(pool_size=3))\n",
    "model.add(Dropout(0.3))\n",
    "\n",
    "model.add(Conv1D(128,kernel_size=3,padding='same',activation='relu'))\n",
    "model.add(MaxPooling1D(pool_size=3))\n",
    "model.add(Dropout(0.4))\n",
    "\n",
    "model.add(LSTM(64,return_sequences=True))\n",
    "model.add(Dropout(0.25))\n",
    "\n",
    "model.add(Flatten())\n",
    "\n",
    "model.add(Dense(128,activation='relu'))\n",
    "model.add(Dropout(0.4))\n",
    "\n",
    "model.add(Dense(10,activation='softmax'))\n",
    "\n",
    "model.compile(loss='categorical_crossentropy',optimizer='adam',metrics=['accuracy'])    \n",
    "model.summary()"
   ]
  },
  {
   "cell_type": "code",
   "execution_count": 17,
   "metadata": {},
   "outputs": [
    {
     "name": "stdout",
     "output_type": "stream",
     "text": [
      "Epoch 1/10\n",
      "WARNING:tensorflow:AutoGraph could not transform <function Model.make_train_function.<locals>.train_function at 0x00000281E1969318> and will run it as-is.\n",
      "Please report this to the TensorFlow team. When filing the bug, set the verbosity to 10 (on Linux, `export AUTOGRAPH_VERBOSITY=10`) and attach the full output.\n",
      "Cause: 'arguments' object has no attribute 'posonlyargs'\n",
      "To silence this warning, decorate the function with @tf.autograph.experimental.do_not_convert\n",
      "WARNING: AutoGraph could not transform <function Model.make_train_function.<locals>.train_function at 0x00000281E1969318> and will run it as-is.\n",
      "Please report this to the TensorFlow team. When filing the bug, set the verbosity to 10 (on Linux, `export AUTOGRAPH_VERBOSITY=10`) and attach the full output.\n",
      "Cause: 'arguments' object has no attribute 'posonlyargs'\n",
      "To silence this warning, decorate the function with @tf.autograph.experimental.do_not_convert\n",
      "925/925 [==============================] - ETA: 0s - loss: 1.0928 - accuracy: 0.5941WARNING:tensorflow:AutoGraph could not transform <function Model.make_test_function.<locals>.test_function at 0x00000281E74FFAF8> and will run it as-is.\n",
      "Please report this to the TensorFlow team. When filing the bug, set the verbosity to 10 (on Linux, `export AUTOGRAPH_VERBOSITY=10`) and attach the full output.\n",
      "Cause: 'arguments' object has no attribute 'posonlyargs'\n",
      "To silence this warning, decorate the function with @tf.autograph.experimental.do_not_convert\n",
      "WARNING: AutoGraph could not transform <function Model.make_test_function.<locals>.test_function at 0x00000281E74FFAF8> and will run it as-is.\n",
      "Please report this to the TensorFlow team. When filing the bug, set the verbosity to 10 (on Linux, `export AUTOGRAPH_VERBOSITY=10`) and attach the full output.\n",
      "Cause: 'arguments' object has no attribute 'posonlyargs'\n",
      "To silence this warning, decorate the function with @tf.autograph.experimental.do_not_convert\n",
      "925/925 [==============================] - 263s 285ms/step - loss: 1.0928 - accuracy: 0.5941 - val_loss: 0.5917 - val_accuracy: 0.7784\n",
      "Epoch 2/10\n",
      "925/925 [==============================] - 260s 281ms/step - loss: 0.5569 - accuracy: 0.7942 - val_loss: 0.4277 - val_accuracy: 0.8365\n",
      "Epoch 3/10\n",
      "925/925 [==============================] - 255s 276ms/step - loss: 0.4433 - accuracy: 0.8368 - val_loss: 0.4054 - val_accuracy: 0.8537\n",
      "Epoch 4/10\n",
      "925/925 [==============================] - 261s 282ms/step - loss: 0.3946 - accuracy: 0.8563 - val_loss: 0.3878 - val_accuracy: 0.8649\n",
      "Epoch 5/10\n",
      "925/925 [==============================] - 264s 285ms/step - loss: 0.3563 - accuracy: 0.8752 - val_loss: 0.3775 - val_accuracy: 0.8713\n",
      "Epoch 6/10\n",
      "925/925 [==============================] - 261s 282ms/step - loss: 0.3242 - accuracy: 0.8872 - val_loss: 0.3663 - val_accuracy: 0.8744\n",
      "Epoch 7/10\n",
      "925/925 [==============================] - 277s 299ms/step - loss: 0.3030 - accuracy: 0.8941 - val_loss: 0.3652 - val_accuracy: 0.8800\n",
      "Epoch 8/10\n",
      "925/925 [==============================] - 243s 262ms/step - loss: 0.2844 - accuracy: 0.9011 - val_loss: 0.3746 - val_accuracy: 0.8808\n",
      "Epoch 9/10\n",
      "925/925 [==============================] - 247s 267ms/step - loss: 0.2631 - accuracy: 0.9108 - val_loss: 0.3737 - val_accuracy: 0.8790\n",
      "Epoch 10/10\n",
      "925/925 [==============================] - 245s 264ms/step - loss: 0.2484 - accuracy: 0.9157 - val_loss: 0.3862 - val_accuracy: 0.8813\n"
     ]
    }
   ],
   "source": [
    "history = model.fit(X_train, y_train, batch_size=64, epochs=10, validation_data=(X_val, y_val))"
   ]
  },
  {
   "cell_type": "code",
   "execution_count": 30,
   "metadata": {},
   "outputs": [
    {
     "data": {
      "image/png": "[encoded data removed]",
      "text/plain": [
       "<Figure size 576x576 with 1 Axes>"
      ]
     },
     "metadata": {
      "needs_background": "light"
     },
     "output_type": "display_data"
    }
   ],
   "source": [
    "history_df = pd.DataFrame(model.history.history).rename(columns={\"loss\":\"train_loss\", \"accuracy\":\"train_accuracy\"})\n",
    "history_df.plot(figsize=(8,8))\n",
    "plt.grid(True)\n",
    "plt.xlabel('Epochs')\n",
    "plt.ylabel('Accuracy')\n",
    "plt.show()"
   ]
  },
  {
   "cell_type": "code",
   "execution_count": 32,
   "metadata": {},
   "outputs": [],
   "source": [
    "model.save('model_cnn3_lstm1.h5') "
   ]
  },
  {
   "cell_type": "code",
   "execution_count": 33,
   "metadata": {},
   "outputs": [
    {
     "data": {
      "text/html": [
       "<div>\n",
       "<style scoped>\n",
       "    .dataframe tbody tr th:only-of-type {\n",
       "        vertical-align: middle;\n",
       "    }\n",
       "\n",
       "    .dataframe tbody tr th {\n",
       "        vertical-align: top;\n",
       "    }\n",
       "\n",
       "    .dataframe thead th {\n",
       "        text-align: right;\n",
       "    }\n",
       "</style>\n",
       "<table border=\"1\" class=\"dataframe\">\n",
       "  <thead>\n",
       "    <tr style=\"text-align: right;\">\n",
       "      <th></th>\n",
       "      <th>uniqueID</th>\n",
       "      <th>drugName</th>\n",
       "      <th>condition</th>\n",
       "      <th>review</th>\n",
       "      <th>rating</th>\n",
       "      <th>date</th>\n",
       "      <th>usefulCount</th>\n",
       "      <th>processed_text</th>\n",
       "    </tr>\n",
       "  </thead>\n",
       "  <tbody>\n",
       "    <tr>\n",
       "      <th>24767</th>\n",
       "      <td>33495</td>\n",
       "      <td>Microgestin Fe 1 / 20</td>\n",
       "      <td>Birth Control</td>\n",
       "      <td>\"I was on Microgestin for about 3 years. Over ...</td>\n",
       "      <td>6</td>\n",
       "      <td>1-Aug-14</td>\n",
       "      <td>15</td>\n",
       "      <td>microgestin three years past year start get ex...</td>\n",
       "    </tr>\n",
       "    <tr>\n",
       "      <th>24768</th>\n",
       "      <td>123432</td>\n",
       "      <td>Apri</td>\n",
       "      <td>Birth Control</td>\n",
       "      <td>\"I started taking Apri about 7 months ago. My ...</td>\n",
       "      <td>9</td>\n",
       "      <td>25-Aug-10</td>\n",
       "      <td>18</td>\n",
       "      <td>start take apri seven months ago breats get no...</td>\n",
       "    </tr>\n",
       "    <tr>\n",
       "      <th>24769</th>\n",
       "      <td>140714</td>\n",
       "      <td>Escitalopram</td>\n",
       "      <td>Anxiety</td>\n",
       "      <td>\"I&amp;#039;ve been taking Lexapro (escitaploprgra...</td>\n",
       "      <td>9</td>\n",
       "      <td>8-Oct-16</td>\n",
       "      <td>11</td>\n",
       "      <td>'ve take lexapro escitaploprgram since februar...</td>\n",
       "    </tr>\n",
       "    <tr>\n",
       "      <th>24770</th>\n",
       "      <td>130945</td>\n",
       "      <td>Levonorgestrel</td>\n",
       "      <td>Birth Control</td>\n",
       "      <td>\"I&amp;#039;m married, 34 years old and I have no ...</td>\n",
       "      <td>8</td>\n",
       "      <td>15-Nov-10</td>\n",
       "      <td>7</td>\n",
       "      <td>'m marry thirty-four years old kid take pill h...</td>\n",
       "    </tr>\n",
       "    <tr>\n",
       "      <th>24771</th>\n",
       "      <td>47656</td>\n",
       "      <td>Tapentadol</td>\n",
       "      <td>Pain</td>\n",
       "      <td>\"I was prescribed Nucynta for severe neck/shou...</td>\n",
       "      <td>1</td>\n",
       "      <td>28-Nov-11</td>\n",
       "      <td>20</td>\n",
       "      <td>prescribe nucynta severe neck/shoulder pain ta...</td>\n",
       "    </tr>\n",
       "  </tbody>\n",
       "</table>\n",
       "</div>"
      ],
      "text/plain": [
       "       uniqueID               drugName      condition  \\\n",
       "24767     33495  Microgestin Fe 1 / 20  Birth Control   \n",
       "24768    123432                   Apri  Birth Control   \n",
       "24769    140714           Escitalopram        Anxiety   \n",
       "24770    130945         Levonorgestrel  Birth Control   \n",
       "24771     47656             Tapentadol           Pain   \n",
       "\n",
       "                                                  review  rating       date  \\\n",
       "24767  \"I was on Microgestin for about 3 years. Over ...       6   1-Aug-14   \n",
       "24768  \"I started taking Apri about 7 months ago. My ...       9  25-Aug-10   \n",
       "24769  \"I&#039;ve been taking Lexapro (escitaploprgra...       9   8-Oct-16   \n",
       "24770  \"I&#039;m married, 34 years old and I have no ...       8  15-Nov-10   \n",
       "24771  \"I was prescribed Nucynta for severe neck/shou...       1  28-Nov-11   \n",
       "\n",
       "       usefulCount                                     processed_text  \n",
       "24767           15  microgestin three years past year start get ex...  \n",
       "24768           18  start take apri seven months ago breats get no...  \n",
       "24769           11  've take lexapro escitaploprgram since februar...  \n",
       "24770            7  'm marry thirty-four years old kid take pill h...  \n",
       "24771           20  prescribe nucynta severe neck/shoulder pain ta...  "
      ]
     },
     "execution_count": 33,
     "metadata": {},
     "output_type": "execute_result"
    }
   ],
   "source": [
    "data_test = pd.read_csv(\"testData.csv\")\n",
    "data_test.tail(5)"
   ]
  },
  {
   "cell_type": "code",
   "execution_count": 38,
   "metadata": {},
   "outputs": [],
   "source": [
    "X_test = data_test.processed_text.values\n",
    "y_test = data_test.condition.values\n",
    "\n",
    "# One-hot encoding the classes (alphabetically by default)\n",
    "y_test = le.transform(y_test)"
   ]
  },
  {
   "cell_type": "code",
   "execution_count": 39,
   "metadata": {},
   "outputs": [
    {
     "data": {
      "text/plain": [
       "(24772, 440)"
      ]
     },
     "execution_count": 39,
     "metadata": {},
     "output_type": "execute_result"
    }
   ],
   "source": [
    "sequences_test = tokenizer.texts_to_sequences(X_test)\n",
    "\n",
    "X_test = pad_sequences(sequences_test, maxlen=SEQUENCE_LEN)\n",
    "X_test.shape"
   ]
  },
  {
   "cell_type": "code",
   "execution_count": 40,
   "metadata": {},
   "outputs": [
    {
     "name": "stdout",
     "output_type": "stream",
     "text": [
      "775/775 [==============================] - 13s 17ms/step - loss: 0.4075 - accuracy: 0.8788\n",
      "Test Loss :  0.40751996636390686  Test Accuracy :  0.8788148164749146\n"
     ]
    }
   ],
   "source": [
    "test_loss, test_acc = model.evaluate(X_test, y_test)\n",
    "print('Test Loss : ',test_loss,' Test Accuracy : ',test_acc)"
   ]
  },
  {
   "cell_type": "code",
   "execution_count": 43,
   "metadata": {},
   "outputs": [
    {
     "data": {
      "image/png": "[encoded data removed]",
      "text/plain": [
       "<Figure size 1080x720 with 2 Axes>"
      ]
     },
     "metadata": {
      "needs_background": "light"
     },
     "output_type": "display_data"
    }
   ],
   "source": [
    "from sklearn.metrics import confusion_matrix\n",
    "import seaborn as sns\n",
    "\n",
    "predictions = model.predict(X_test).argmax(axis=1)\n",
    "cm = confusion_matrix(y_test.argmax(axis=1), predictions, normalize='true')\n",
    "\n",
    "fig, ax = plt.subplots(figsize=(15,10))\n",
    "sns.heatmap(cm, cmap='Blues', annot=True, ax = ax); \n",
    "\n",
    "# Labels, title and ticks\n",
    "ax.set_title('Confusion Matrix'); \n",
    "ax.xaxis.set_ticklabels(list(le.classes_)); \n",
    "ax.yaxis.set_ticklabels(list(le.classes_));"
   ]
  },
  {
   "cell_type": "code",
   "execution_count": null,
   "metadata": {},
   "outputs": [],
   "source": []
  },
  {
   "cell_type": "code",
   "execution_count": null,
   "metadata": {},
   "outputs": [],
   "source": []
  },
  {
   "cell_type": "code",
   "execution_count": null,
   "metadata": {},
   "outputs": [],
   "source": []
  }
 ],
 "metadata": {
  "kernelspec": {
   "display_name": "Python 3",
   "language": "python",
   "name": "python3"
  },
  "language_info": {
   "codemirror_mode": {
    "name": "ipython",
    "version": 3
   },
   "file_extension": ".py",
   "mimetype": "text/x-python",
   "name": "python",
   "nbconvert_exporter": "python",
   "pygments_lexer": "ipython3",
   "version": "3.7.4"
  }
 },
 "nbformat": 4,
 "nbformat_minor": 4
}
